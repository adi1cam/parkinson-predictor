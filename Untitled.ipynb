{
 "cells": [
  {
   "cell_type": "code",
   "execution_count": 61,
   "id": "05d4e663",
   "metadata": {},
   "outputs": [],
   "source": [
    "import numpy as np\n",
    "import pandas as pd\n",
    "from sklearn.metrics import accuracy_score\n",
    "from sklearn.model_selection import train_test_split\n",
    "from sklearn import svm\n",
    "from sklearn.preprocessing import StandardScaler"
   ]
  },
  {
   "cell_type": "code",
   "execution_count": 62,
   "id": "5a018c6a",
   "metadata": {},
   "outputs": [],
   "source": [
    "data=pd.read_csv('D:\\\\parkinson+dataset+with+replicated+acoustic+features\\\\ReplicatedAcousticFeatures-ParkinsonDatabase.csv')\n"
   ]
  },
  {
   "cell_type": "code",
   "execution_count": 63,
   "id": "4fc5c210",
   "metadata": {},
   "outputs": [
    {
     "data": {
      "text/html": [
       "<div>\n",
       "<style scoped>\n",
       "    .dataframe tbody tr th:only-of-type {\n",
       "        vertical-align: middle;\n",
       "    }\n",
       "\n",
       "    .dataframe tbody tr th {\n",
       "        vertical-align: top;\n",
       "    }\n",
       "\n",
       "    .dataframe thead th {\n",
       "        text-align: right;\n",
       "    }\n",
       "</style>\n",
       "<table border=\"1\" class=\"dataframe\">\n",
       "  <thead>\n",
       "    <tr style=\"text-align: right;\">\n",
       "      <th></th>\n",
       "      <th>ID</th>\n",
       "      <th>Recording</th>\n",
       "      <th>Status</th>\n",
       "      <th>Gender</th>\n",
       "      <th>Jitter_rel</th>\n",
       "      <th>Jitter_abs</th>\n",
       "      <th>Jitter_RAP</th>\n",
       "      <th>Jitter_PPQ</th>\n",
       "      <th>Shim_loc</th>\n",
       "      <th>Shim_dB</th>\n",
       "      <th>...</th>\n",
       "      <th>Delta3</th>\n",
       "      <th>Delta4</th>\n",
       "      <th>Delta5</th>\n",
       "      <th>Delta6</th>\n",
       "      <th>Delta7</th>\n",
       "      <th>Delta8</th>\n",
       "      <th>Delta9</th>\n",
       "      <th>Delta10</th>\n",
       "      <th>Delta11</th>\n",
       "      <th>Delta12</th>\n",
       "    </tr>\n",
       "  </thead>\n",
       "  <tbody>\n",
       "    <tr>\n",
       "      <th>0</th>\n",
       "      <td>CONT-01</td>\n",
       "      <td>1</td>\n",
       "      <td>0</td>\n",
       "      <td>1</td>\n",
       "      <td>0.25546</td>\n",
       "      <td>0.000015</td>\n",
       "      <td>0.001467</td>\n",
       "      <td>0.001673</td>\n",
       "      <td>0.030256</td>\n",
       "      <td>0.26313</td>\n",
       "      <td>...</td>\n",
       "      <td>1.407701</td>\n",
       "      <td>1.417218</td>\n",
       "      <td>1.380352</td>\n",
       "      <td>1.420670</td>\n",
       "      <td>1.451240</td>\n",
       "      <td>1.440295</td>\n",
       "      <td>1.403678</td>\n",
       "      <td>1.405495</td>\n",
       "      <td>1.416705</td>\n",
       "      <td>1.354610</td>\n",
       "    </tr>\n",
       "    <tr>\n",
       "      <th>1</th>\n",
       "      <td>CONT-01</td>\n",
       "      <td>2</td>\n",
       "      <td>0</td>\n",
       "      <td>1</td>\n",
       "      <td>0.36964</td>\n",
       "      <td>0.000022</td>\n",
       "      <td>0.001932</td>\n",
       "      <td>0.002245</td>\n",
       "      <td>0.023146</td>\n",
       "      <td>0.20217</td>\n",
       "      <td>...</td>\n",
       "      <td>1.331232</td>\n",
       "      <td>1.227338</td>\n",
       "      <td>1.213377</td>\n",
       "      <td>1.352739</td>\n",
       "      <td>1.354242</td>\n",
       "      <td>1.365692</td>\n",
       "      <td>1.322870</td>\n",
       "      <td>1.314549</td>\n",
       "      <td>1.318999</td>\n",
       "      <td>1.323508</td>\n",
       "    </tr>\n",
       "    <tr>\n",
       "      <th>2</th>\n",
       "      <td>CONT-01</td>\n",
       "      <td>3</td>\n",
       "      <td>0</td>\n",
       "      <td>1</td>\n",
       "      <td>0.23514</td>\n",
       "      <td>0.000013</td>\n",
       "      <td>0.001353</td>\n",
       "      <td>0.001546</td>\n",
       "      <td>0.019338</td>\n",
       "      <td>0.16710</td>\n",
       "      <td>...</td>\n",
       "      <td>1.412304</td>\n",
       "      <td>1.324674</td>\n",
       "      <td>1.276088</td>\n",
       "      <td>1.429634</td>\n",
       "      <td>1.455996</td>\n",
       "      <td>1.368882</td>\n",
       "      <td>1.438053</td>\n",
       "      <td>1.388910</td>\n",
       "      <td>1.305469</td>\n",
       "      <td>1.305402</td>\n",
       "    </tr>\n",
       "    <tr>\n",
       "      <th>3</th>\n",
       "      <td>CONT-02</td>\n",
       "      <td>1</td>\n",
       "      <td>0</td>\n",
       "      <td>0</td>\n",
       "      <td>0.29320</td>\n",
       "      <td>0.000017</td>\n",
       "      <td>0.001105</td>\n",
       "      <td>0.001444</td>\n",
       "      <td>0.024716</td>\n",
       "      <td>0.20892</td>\n",
       "      <td>...</td>\n",
       "      <td>1.501200</td>\n",
       "      <td>1.534170</td>\n",
       "      <td>1.323993</td>\n",
       "      <td>1.496442</td>\n",
       "      <td>1.472926</td>\n",
       "      <td>1.643177</td>\n",
       "      <td>1.551286</td>\n",
       "      <td>1.638346</td>\n",
       "      <td>1.604008</td>\n",
       "      <td>1.621456</td>\n",
       "    </tr>\n",
       "    <tr>\n",
       "      <th>4</th>\n",
       "      <td>CONT-02</td>\n",
       "      <td>2</td>\n",
       "      <td>0</td>\n",
       "      <td>0</td>\n",
       "      <td>0.23075</td>\n",
       "      <td>0.000015</td>\n",
       "      <td>0.001073</td>\n",
       "      <td>0.001404</td>\n",
       "      <td>0.013119</td>\n",
       "      <td>0.11607</td>\n",
       "      <td>...</td>\n",
       "      <td>1.508468</td>\n",
       "      <td>1.334511</td>\n",
       "      <td>1.610694</td>\n",
       "      <td>1.685021</td>\n",
       "      <td>1.417614</td>\n",
       "      <td>1.574895</td>\n",
       "      <td>1.640088</td>\n",
       "      <td>1.533666</td>\n",
       "      <td>1.297536</td>\n",
       "      <td>1.382023</td>\n",
       "    </tr>\n",
       "  </tbody>\n",
       "</table>\n",
       "<p>5 rows × 48 columns</p>\n",
       "</div>"
      ],
      "text/plain": [
       "        ID  Recording  Status  Gender  Jitter_rel  Jitter_abs  Jitter_RAP  \\\n",
       "0  CONT-01          1       0       1     0.25546    0.000015    0.001467   \n",
       "1  CONT-01          2       0       1     0.36964    0.000022    0.001932   \n",
       "2  CONT-01          3       0       1     0.23514    0.000013    0.001353   \n",
       "3  CONT-02          1       0       0     0.29320    0.000017    0.001105   \n",
       "4  CONT-02          2       0       0     0.23075    0.000015    0.001073   \n",
       "\n",
       "   Jitter_PPQ  Shim_loc  Shim_dB  ...    Delta3    Delta4    Delta5    Delta6  \\\n",
       "0    0.001673  0.030256  0.26313  ...  1.407701  1.417218  1.380352  1.420670   \n",
       "1    0.002245  0.023146  0.20217  ...  1.331232  1.227338  1.213377  1.352739   \n",
       "2    0.001546  0.019338  0.16710  ...  1.412304  1.324674  1.276088  1.429634   \n",
       "3    0.001444  0.024716  0.20892  ...  1.501200  1.534170  1.323993  1.496442   \n",
       "4    0.001404  0.013119  0.11607  ...  1.508468  1.334511  1.610694  1.685021   \n",
       "\n",
       "     Delta7    Delta8    Delta9   Delta10   Delta11   Delta12  \n",
       "0  1.451240  1.440295  1.403678  1.405495  1.416705  1.354610  \n",
       "1  1.354242  1.365692  1.322870  1.314549  1.318999  1.323508  \n",
       "2  1.455996  1.368882  1.438053  1.388910  1.305469  1.305402  \n",
       "3  1.472926  1.643177  1.551286  1.638346  1.604008  1.621456  \n",
       "4  1.417614  1.574895  1.640088  1.533666  1.297536  1.382023  \n",
       "\n",
       "[5 rows x 48 columns]"
      ]
     },
     "execution_count": 63,
     "metadata": {},
     "output_type": "execute_result"
    }
   ],
   "source": [
    "data.head()"
   ]
  },
  {
   "cell_type": "code",
   "execution_count": 64,
   "id": "98f4f9fb",
   "metadata": {},
   "outputs": [
    {
     "data": {
      "text/plain": [
       "(240, 48)"
      ]
     },
     "execution_count": 64,
     "metadata": {},
     "output_type": "execute_result"
    }
   ],
   "source": [
    "data.shape"
   ]
  },
  {
   "cell_type": "code",
   "execution_count": 65,
   "id": "46fc81f3",
   "metadata": {},
   "outputs": [
    {
     "name": "stdout",
     "output_type": "stream",
     "text": [
      "<class 'pandas.core.frame.DataFrame'>\n",
      "RangeIndex: 240 entries, 0 to 239\n",
      "Data columns (total 48 columns):\n",
      " #   Column      Non-Null Count  Dtype  \n",
      "---  ------      --------------  -----  \n",
      " 0   ID          240 non-null    object \n",
      " 1   Recording   240 non-null    int64  \n",
      " 2   Status      240 non-null    int64  \n",
      " 3   Gender      240 non-null    int64  \n",
      " 4   Jitter_rel  240 non-null    float64\n",
      " 5   Jitter_abs  240 non-null    float64\n",
      " 6   Jitter_RAP  240 non-null    float64\n",
      " 7   Jitter_PPQ  240 non-null    float64\n",
      " 8   Shim_loc    240 non-null    float64\n",
      " 9   Shim_dB     240 non-null    float64\n",
      " 10  Shim_APQ3   240 non-null    float64\n",
      " 11  Shim_APQ5   240 non-null    float64\n",
      " 12  Shi_APQ11   240 non-null    float64\n",
      " 13  HNR05       240 non-null    float64\n",
      " 14  HNR15       240 non-null    float64\n",
      " 15  HNR25       240 non-null    float64\n",
      " 16  HNR35       240 non-null    float64\n",
      " 17  HNR38       240 non-null    float64\n",
      " 18  RPDE        240 non-null    float64\n",
      " 19  DFA         240 non-null    float64\n",
      " 20  PPE         240 non-null    float64\n",
      " 21  GNE         240 non-null    float64\n",
      " 22  MFCC0       240 non-null    float64\n",
      " 23  MFCC1       240 non-null    float64\n",
      " 24  MFCC2       240 non-null    float64\n",
      " 25  MFCC3       240 non-null    float64\n",
      " 26  MFCC4       240 non-null    float64\n",
      " 27  MFCC5       240 non-null    float64\n",
      " 28  MFCC6       240 non-null    float64\n",
      " 29  MFCC7       240 non-null    float64\n",
      " 30  MFCC8       240 non-null    float64\n",
      " 31  MFCC9       240 non-null    float64\n",
      " 32  MFCC10      240 non-null    float64\n",
      " 33  MFCC11      240 non-null    float64\n",
      " 34  MFCC12      240 non-null    float64\n",
      " 35  Delta0      240 non-null    float64\n",
      " 36  Delta1      240 non-null    float64\n",
      " 37  Delta2      240 non-null    float64\n",
      " 38  Delta3      240 non-null    float64\n",
      " 39  Delta4      240 non-null    float64\n",
      " 40  Delta5      240 non-null    float64\n",
      " 41  Delta6      240 non-null    float64\n",
      " 42  Delta7      240 non-null    float64\n",
      " 43  Delta8      240 non-null    float64\n",
      " 44  Delta9      240 non-null    float64\n",
      " 45  Delta10     240 non-null    float64\n",
      " 46  Delta11     240 non-null    float64\n",
      " 47  Delta12     240 non-null    float64\n",
      "dtypes: float64(44), int64(3), object(1)\n",
      "memory usage: 90.1+ KB\n"
     ]
    }
   ],
   "source": [
    "data.info()"
   ]
  },
  {
   "cell_type": "code",
   "execution_count": 66,
   "id": "678401ed",
   "metadata": {},
   "outputs": [
    {
     "data": {
      "text/plain": [
       "<bound method NDFrame._add_numeric_operations.<locals>.sum of         ID  Recording  Status  Gender  Jitter_rel  Jitter_abs  Jitter_RAP  \\\n",
       "0    False      False   False   False       False       False       False   \n",
       "1    False      False   False   False       False       False       False   \n",
       "2    False      False   False   False       False       False       False   \n",
       "3    False      False   False   False       False       False       False   \n",
       "4    False      False   False   False       False       False       False   \n",
       "..     ...        ...     ...     ...         ...         ...         ...   \n",
       "235  False      False   False   False       False       False       False   \n",
       "236  False      False   False   False       False       False       False   \n",
       "237  False      False   False   False       False       False       False   \n",
       "238  False      False   False   False       False       False       False   \n",
       "239  False      False   False   False       False       False       False   \n",
       "\n",
       "     Jitter_PPQ  Shim_loc  Shim_dB  ...  Delta3  Delta4  Delta5  Delta6  \\\n",
       "0         False     False    False  ...   False   False   False   False   \n",
       "1         False     False    False  ...   False   False   False   False   \n",
       "2         False     False    False  ...   False   False   False   False   \n",
       "3         False     False    False  ...   False   False   False   False   \n",
       "4         False     False    False  ...   False   False   False   False   \n",
       "..          ...       ...      ...  ...     ...     ...     ...     ...   \n",
       "235       False     False    False  ...   False   False   False   False   \n",
       "236       False     False    False  ...   False   False   False   False   \n",
       "237       False     False    False  ...   False   False   False   False   \n",
       "238       False     False    False  ...   False   False   False   False   \n",
       "239       False     False    False  ...   False   False   False   False   \n",
       "\n",
       "     Delta7  Delta8  Delta9  Delta10  Delta11  Delta12  \n",
       "0     False   False   False    False    False    False  \n",
       "1     False   False   False    False    False    False  \n",
       "2     False   False   False    False    False    False  \n",
       "3     False   False   False    False    False    False  \n",
       "4     False   False   False    False    False    False  \n",
       "..      ...     ...     ...      ...      ...      ...  \n",
       "235   False   False   False    False    False    False  \n",
       "236   False   False   False    False    False    False  \n",
       "237   False   False   False    False    False    False  \n",
       "238   False   False   False    False    False    False  \n",
       "239   False   False   False    False    False    False  \n",
       "\n",
       "[240 rows x 48 columns]>"
      ]
     },
     "execution_count": 66,
     "metadata": {},
     "output_type": "execute_result"
    }
   ],
   "source": [
    "data.isnull().sum"
   ]
  },
  {
   "cell_type": "code",
   "execution_count": 67,
   "id": "e20ad48a",
   "metadata": {},
   "outputs": [
    {
     "data": {
      "text/plain": [
       "0    120\n",
       "1    120\n",
       "Name: Status, dtype: int64"
      ]
     },
     "execution_count": 67,
     "metadata": {},
     "output_type": "execute_result"
    }
   ],
   "source": [
    "data['Status'].value_counts()"
   ]
  },
  {
   "cell_type": "code",
   "execution_count": 68,
   "id": "8e7e8464",
   "metadata": {},
   "outputs": [
    {
     "name": "stderr",
     "output_type": "stream",
     "text": [
      "C:\\Users\\User\\AppData\\Local\\Temp\\ipykernel_11660\\3324384443.py:1: FutureWarning: The default value of numeric_only in DataFrameGroupBy.mean is deprecated. In a future version, numeric_only will default to False. Either specify numeric_only or select only columns which should be valid for the function.\n",
      "  data.groupby('Status').mean()\n"
     ]
    },
    {
     "data": {
      "text/html": [
       "<div>\n",
       "<style scoped>\n",
       "    .dataframe tbody tr th:only-of-type {\n",
       "        vertical-align: middle;\n",
       "    }\n",
       "\n",
       "    .dataframe tbody tr th {\n",
       "        vertical-align: top;\n",
       "    }\n",
       "\n",
       "    .dataframe thead th {\n",
       "        text-align: right;\n",
       "    }\n",
       "</style>\n",
       "<table border=\"1\" class=\"dataframe\">\n",
       "  <thead>\n",
       "    <tr style=\"text-align: right;\">\n",
       "      <th></th>\n",
       "      <th>Recording</th>\n",
       "      <th>Gender</th>\n",
       "      <th>Jitter_rel</th>\n",
       "      <th>Jitter_abs</th>\n",
       "      <th>Jitter_RAP</th>\n",
       "      <th>Jitter_PPQ</th>\n",
       "      <th>Shim_loc</th>\n",
       "      <th>Shim_dB</th>\n",
       "      <th>Shim_APQ3</th>\n",
       "      <th>Shim_APQ5</th>\n",
       "      <th>...</th>\n",
       "      <th>Delta3</th>\n",
       "      <th>Delta4</th>\n",
       "      <th>Delta5</th>\n",
       "      <th>Delta6</th>\n",
       "      <th>Delta7</th>\n",
       "      <th>Delta8</th>\n",
       "      <th>Delta9</th>\n",
       "      <th>Delta10</th>\n",
       "      <th>Delta11</th>\n",
       "      <th>Delta12</th>\n",
       "    </tr>\n",
       "    <tr>\n",
       "      <th>Status</th>\n",
       "      <th></th>\n",
       "      <th></th>\n",
       "      <th></th>\n",
       "      <th></th>\n",
       "      <th></th>\n",
       "      <th></th>\n",
       "      <th></th>\n",
       "      <th></th>\n",
       "      <th></th>\n",
       "      <th></th>\n",
       "      <th></th>\n",
       "      <th></th>\n",
       "      <th></th>\n",
       "      <th></th>\n",
       "      <th></th>\n",
       "      <th></th>\n",
       "      <th></th>\n",
       "      <th></th>\n",
       "      <th></th>\n",
       "      <th></th>\n",
       "      <th></th>\n",
       "    </tr>\n",
       "  </thead>\n",
       "  <tbody>\n",
       "    <tr>\n",
       "      <th>0</th>\n",
       "      <td>2.0</td>\n",
       "      <td>0.45</td>\n",
       "      <td>0.482186</td>\n",
       "      <td>0.000040</td>\n",
       "      <td>0.002486</td>\n",
       "      <td>0.002787</td>\n",
       "      <td>0.032928</td>\n",
       "      <td>0.287586</td>\n",
       "      <td>0.018054</td>\n",
       "      <td>0.019978</td>\n",
       "      <td>...</td>\n",
       "      <td>1.453583</td>\n",
       "      <td>1.460161</td>\n",
       "      <td>1.451821</td>\n",
       "      <td>1.446357</td>\n",
       "      <td>1.456511</td>\n",
       "      <td>1.444688</td>\n",
       "      <td>1.453727</td>\n",
       "      <td>1.441393</td>\n",
       "      <td>1.472436</td>\n",
       "      <td>1.457309</td>\n",
       "    </tr>\n",
       "    <tr>\n",
       "      <th>1</th>\n",
       "      <td>2.0</td>\n",
       "      <td>0.35</td>\n",
       "      <td>0.685788</td>\n",
       "      <td>0.000049</td>\n",
       "      <td>0.003858</td>\n",
       "      <td>0.004277</td>\n",
       "      <td>0.043928</td>\n",
       "      <td>0.386079</td>\n",
       "      <td>0.024945</td>\n",
       "      <td>0.026959</td>\n",
       "      <td>...</td>\n",
       "      <td>1.232892</td>\n",
       "      <td>1.237667</td>\n",
       "      <td>1.223613</td>\n",
       "      <td>1.237214</td>\n",
       "      <td>1.225279</td>\n",
       "      <td>1.243267</td>\n",
       "      <td>1.229217</td>\n",
       "      <td>1.221474</td>\n",
       "      <td>1.220326</td>\n",
       "      <td>1.234979</td>\n",
       "    </tr>\n",
       "  </tbody>\n",
       "</table>\n",
       "<p>2 rows × 46 columns</p>\n",
       "</div>"
      ],
      "text/plain": [
       "        Recording  Gender  Jitter_rel  Jitter_abs  Jitter_RAP  Jitter_PPQ  \\\n",
       "Status                                                                      \n",
       "0             2.0    0.45    0.482186    0.000040    0.002486    0.002787   \n",
       "1             2.0    0.35    0.685788    0.000049    0.003858    0.004277   \n",
       "\n",
       "        Shim_loc   Shim_dB  Shim_APQ3  Shim_APQ5  ...    Delta3    Delta4  \\\n",
       "Status                                            ...                       \n",
       "0       0.032928  0.287586   0.018054   0.019978  ...  1.453583  1.460161   \n",
       "1       0.043928  0.386079   0.024945   0.026959  ...  1.232892  1.237667   \n",
       "\n",
       "          Delta5    Delta6    Delta7    Delta8    Delta9   Delta10   Delta11  \\\n",
       "Status                                                                         \n",
       "0       1.451821  1.446357  1.456511  1.444688  1.453727  1.441393  1.472436   \n",
       "1       1.223613  1.237214  1.225279  1.243267  1.229217  1.221474  1.220326   \n",
       "\n",
       "         Delta12  \n",
       "Status            \n",
       "0       1.457309  \n",
       "1       1.234979  \n",
       "\n",
       "[2 rows x 46 columns]"
      ]
     },
     "execution_count": 68,
     "metadata": {},
     "output_type": "execute_result"
    }
   ],
   "source": [
    "data.groupby('Status').mean()"
   ]
  },
  {
   "cell_type": "code",
   "execution_count": 69,
   "id": "bf8b60fb",
   "metadata": {},
   "outputs": [],
   "source": [
    "x=data.drop(columns=['Status','ID','Recording'])\n",
    "y=data['Status']"
   ]
  },
  {
   "cell_type": "code",
   "execution_count": 70,
   "id": "04985736",
   "metadata": {},
   "outputs": [],
   "source": [
    "x_train,x_test,y_train,y_test=train_test_split(x,y,test_size=0.2,random_state=2)"
   ]
  },
  {
   "cell_type": "code",
   "execution_count": 71,
   "id": "3a7e831d",
   "metadata": {},
   "outputs": [
    {
     "name": "stdout",
     "output_type": "stream",
     "text": [
      "(48,) (192,)\n"
     ]
    }
   ],
   "source": [
    "print(y_test.shape,y_train.shape)"
   ]
  },
  {
   "cell_type": "code",
   "execution_count": 72,
   "id": "9865f771",
   "metadata": {},
   "outputs": [],
   "source": [
    "scaler=StandardScaler()"
   ]
  },
  {
   "cell_type": "code",
   "execution_count": 73,
   "id": "3ad2c724",
   "metadata": {},
   "outputs": [
    {
     "data": {
      "text/html": [
       "<style>#sk-container-id-3 {color: black;background-color: white;}#sk-container-id-3 pre{padding: 0;}#sk-container-id-3 div.sk-toggleable {background-color: white;}#sk-container-id-3 label.sk-toggleable__label {cursor: pointer;display: block;width: 100%;margin-bottom: 0;padding: 0.3em;box-sizing: border-box;text-align: center;}#sk-container-id-3 label.sk-toggleable__label-arrow:before {content: \"▸\";float: left;margin-right: 0.25em;color: #696969;}#sk-container-id-3 label.sk-toggleable__label-arrow:hover:before {color: black;}#sk-container-id-3 div.sk-estimator:hover label.sk-toggleable__label-arrow:before {color: black;}#sk-container-id-3 div.sk-toggleable__content {max-height: 0;max-width: 0;overflow: hidden;text-align: left;background-color: #f0f8ff;}#sk-container-id-3 div.sk-toggleable__content pre {margin: 0.2em;color: black;border-radius: 0.25em;background-color: #f0f8ff;}#sk-container-id-3 input.sk-toggleable__control:checked~div.sk-toggleable__content {max-height: 200px;max-width: 100%;overflow: auto;}#sk-container-id-3 input.sk-toggleable__control:checked~label.sk-toggleable__label-arrow:before {content: \"▾\";}#sk-container-id-3 div.sk-estimator input.sk-toggleable__control:checked~label.sk-toggleable__label {background-color: #d4ebff;}#sk-container-id-3 div.sk-label input.sk-toggleable__control:checked~label.sk-toggleable__label {background-color: #d4ebff;}#sk-container-id-3 input.sk-hidden--visually {border: 0;clip: rect(1px 1px 1px 1px);clip: rect(1px, 1px, 1px, 1px);height: 1px;margin: -1px;overflow: hidden;padding: 0;position: absolute;width: 1px;}#sk-container-id-3 div.sk-estimator {font-family: monospace;background-color: #f0f8ff;border: 1px dotted black;border-radius: 0.25em;box-sizing: border-box;margin-bottom: 0.5em;}#sk-container-id-3 div.sk-estimator:hover {background-color: #d4ebff;}#sk-container-id-3 div.sk-parallel-item::after {content: \"\";width: 100%;border-bottom: 1px solid gray;flex-grow: 1;}#sk-container-id-3 div.sk-label:hover label.sk-toggleable__label {background-color: #d4ebff;}#sk-container-id-3 div.sk-serial::before {content: \"\";position: absolute;border-left: 1px solid gray;box-sizing: border-box;top: 0;bottom: 0;left: 50%;z-index: 0;}#sk-container-id-3 div.sk-serial {display: flex;flex-direction: column;align-items: center;background-color: white;padding-right: 0.2em;padding-left: 0.2em;position: relative;}#sk-container-id-3 div.sk-item {position: relative;z-index: 1;}#sk-container-id-3 div.sk-parallel {display: flex;align-items: stretch;justify-content: center;background-color: white;position: relative;}#sk-container-id-3 div.sk-item::before, #sk-container-id-3 div.sk-parallel-item::before {content: \"\";position: absolute;border-left: 1px solid gray;box-sizing: border-box;top: 0;bottom: 0;left: 50%;z-index: -1;}#sk-container-id-3 div.sk-parallel-item {display: flex;flex-direction: column;z-index: 1;position: relative;background-color: white;}#sk-container-id-3 div.sk-parallel-item:first-child::after {align-self: flex-end;width: 50%;}#sk-container-id-3 div.sk-parallel-item:last-child::after {align-self: flex-start;width: 50%;}#sk-container-id-3 div.sk-parallel-item:only-child::after {width: 0;}#sk-container-id-3 div.sk-dashed-wrapped {border: 1px dashed gray;margin: 0 0.4em 0.5em 0.4em;box-sizing: border-box;padding-bottom: 0.4em;background-color: white;}#sk-container-id-3 div.sk-label label {font-family: monospace;font-weight: bold;display: inline-block;line-height: 1.2em;}#sk-container-id-3 div.sk-label-container {text-align: center;}#sk-container-id-3 div.sk-container {/* jupyter's `normalize.less` sets `[hidden] { display: none; }` but bootstrap.min.css set `[hidden] { display: none !important; }` so we also need the `!important` here to be able to override the default hidden behavior on the sphinx rendered scikit-learn.org. See: https://github.com/scikit-learn/scikit-learn/issues/21755 */display: inline-block !important;position: relative;}#sk-container-id-3 div.sk-text-repr-fallback {display: none;}</style><div id=\"sk-container-id-3\" class=\"sk-top-container\"><div class=\"sk-text-repr-fallback\"><pre>StandardScaler()</pre><b>In a Jupyter environment, please rerun this cell to show the HTML representation or trust the notebook. <br />On GitHub, the HTML representation is unable to render, please try loading this page with nbviewer.org.</b></div><div class=\"sk-container\" hidden><div class=\"sk-item\"><div class=\"sk-estimator sk-toggleable\"><input class=\"sk-toggleable__control sk-hidden--visually\" id=\"sk-estimator-id-3\" type=\"checkbox\" checked><label for=\"sk-estimator-id-3\" class=\"sk-toggleable__label sk-toggleable__label-arrow\">StandardScaler</label><div class=\"sk-toggleable__content\"><pre>StandardScaler()</pre></div></div></div></div></div>"
      ],
      "text/plain": [
       "StandardScaler()"
      ]
     },
     "execution_count": 73,
     "metadata": {},
     "output_type": "execute_result"
    }
   ],
   "source": [
    "scaler.fit(x_train)"
   ]
  },
  {
   "cell_type": "code",
   "execution_count": 74,
   "id": "277f28e8",
   "metadata": {},
   "outputs": [],
   "source": [
    "x_train=scaler.transform(x_train)\n",
    "x_test=scaler.transform(x_test)"
   ]
  },
  {
   "cell_type": "code",
   "execution_count": 75,
   "id": "caf10f09",
   "metadata": {},
   "outputs": [
    {
     "name": "stdout",
     "output_type": "stream",
     "text": [
      "(192, 45)\n"
     ]
    }
   ],
   "source": [
    "print(x_train.shape)"
   ]
  },
  {
   "cell_type": "code",
   "execution_count": 76,
   "id": "7044f0c1",
   "metadata": {},
   "outputs": [],
   "source": [
    "model=svm.SVC(kernel='linear')"
   ]
  },
  {
   "cell_type": "code",
   "execution_count": 77,
   "id": "023dcad4",
   "metadata": {},
   "outputs": [
    {
     "data": {
      "text/html": [
       "<style>#sk-container-id-4 {color: black;background-color: white;}#sk-container-id-4 pre{padding: 0;}#sk-container-id-4 div.sk-toggleable {background-color: white;}#sk-container-id-4 label.sk-toggleable__label {cursor: pointer;display: block;width: 100%;margin-bottom: 0;padding: 0.3em;box-sizing: border-box;text-align: center;}#sk-container-id-4 label.sk-toggleable__label-arrow:before {content: \"▸\";float: left;margin-right: 0.25em;color: #696969;}#sk-container-id-4 label.sk-toggleable__label-arrow:hover:before {color: black;}#sk-container-id-4 div.sk-estimator:hover label.sk-toggleable__label-arrow:before {color: black;}#sk-container-id-4 div.sk-toggleable__content {max-height: 0;max-width: 0;overflow: hidden;text-align: left;background-color: #f0f8ff;}#sk-container-id-4 div.sk-toggleable__content pre {margin: 0.2em;color: black;border-radius: 0.25em;background-color: #f0f8ff;}#sk-container-id-4 input.sk-toggleable__control:checked~div.sk-toggleable__content {max-height: 200px;max-width: 100%;overflow: auto;}#sk-container-id-4 input.sk-toggleable__control:checked~label.sk-toggleable__label-arrow:before {content: \"▾\";}#sk-container-id-4 div.sk-estimator input.sk-toggleable__control:checked~label.sk-toggleable__label {background-color: #d4ebff;}#sk-container-id-4 div.sk-label input.sk-toggleable__control:checked~label.sk-toggleable__label {background-color: #d4ebff;}#sk-container-id-4 input.sk-hidden--visually {border: 0;clip: rect(1px 1px 1px 1px);clip: rect(1px, 1px, 1px, 1px);height: 1px;margin: -1px;overflow: hidden;padding: 0;position: absolute;width: 1px;}#sk-container-id-4 div.sk-estimator {font-family: monospace;background-color: #f0f8ff;border: 1px dotted black;border-radius: 0.25em;box-sizing: border-box;margin-bottom: 0.5em;}#sk-container-id-4 div.sk-estimator:hover {background-color: #d4ebff;}#sk-container-id-4 div.sk-parallel-item::after {content: \"\";width: 100%;border-bottom: 1px solid gray;flex-grow: 1;}#sk-container-id-4 div.sk-label:hover label.sk-toggleable__label {background-color: #d4ebff;}#sk-container-id-4 div.sk-serial::before {content: \"\";position: absolute;border-left: 1px solid gray;box-sizing: border-box;top: 0;bottom: 0;left: 50%;z-index: 0;}#sk-container-id-4 div.sk-serial {display: flex;flex-direction: column;align-items: center;background-color: white;padding-right: 0.2em;padding-left: 0.2em;position: relative;}#sk-container-id-4 div.sk-item {position: relative;z-index: 1;}#sk-container-id-4 div.sk-parallel {display: flex;align-items: stretch;justify-content: center;background-color: white;position: relative;}#sk-container-id-4 div.sk-item::before, #sk-container-id-4 div.sk-parallel-item::before {content: \"\";position: absolute;border-left: 1px solid gray;box-sizing: border-box;top: 0;bottom: 0;left: 50%;z-index: -1;}#sk-container-id-4 div.sk-parallel-item {display: flex;flex-direction: column;z-index: 1;position: relative;background-color: white;}#sk-container-id-4 div.sk-parallel-item:first-child::after {align-self: flex-end;width: 50%;}#sk-container-id-4 div.sk-parallel-item:last-child::after {align-self: flex-start;width: 50%;}#sk-container-id-4 div.sk-parallel-item:only-child::after {width: 0;}#sk-container-id-4 div.sk-dashed-wrapped {border: 1px dashed gray;margin: 0 0.4em 0.5em 0.4em;box-sizing: border-box;padding-bottom: 0.4em;background-color: white;}#sk-container-id-4 div.sk-label label {font-family: monospace;font-weight: bold;display: inline-block;line-height: 1.2em;}#sk-container-id-4 div.sk-label-container {text-align: center;}#sk-container-id-4 div.sk-container {/* jupyter's `normalize.less` sets `[hidden] { display: none; }` but bootstrap.min.css set `[hidden] { display: none !important; }` so we also need the `!important` here to be able to override the default hidden behavior on the sphinx rendered scikit-learn.org. See: https://github.com/scikit-learn/scikit-learn/issues/21755 */display: inline-block !important;position: relative;}#sk-container-id-4 div.sk-text-repr-fallback {display: none;}</style><div id=\"sk-container-id-4\" class=\"sk-top-container\"><div class=\"sk-text-repr-fallback\"><pre>SVC(kernel=&#x27;linear&#x27;)</pre><b>In a Jupyter environment, please rerun this cell to show the HTML representation or trust the notebook. <br />On GitHub, the HTML representation is unable to render, please try loading this page with nbviewer.org.</b></div><div class=\"sk-container\" hidden><div class=\"sk-item\"><div class=\"sk-estimator sk-toggleable\"><input class=\"sk-toggleable__control sk-hidden--visually\" id=\"sk-estimator-id-4\" type=\"checkbox\" checked><label for=\"sk-estimator-id-4\" class=\"sk-toggleable__label sk-toggleable__label-arrow\">SVC</label><div class=\"sk-toggleable__content\"><pre>SVC(kernel=&#x27;linear&#x27;)</pre></div></div></div></div></div>"
      ],
      "text/plain": [
       "SVC(kernel='linear')"
      ]
     },
     "execution_count": 77,
     "metadata": {},
     "output_type": "execute_result"
    }
   ],
   "source": [
    "model.fit(x_train,y_train)"
   ]
  },
  {
   "cell_type": "code",
   "execution_count": 78,
   "id": "ccd41875",
   "metadata": {},
   "outputs": [],
   "source": [
    "x_train_p=model.predict(x_train)\n",
    "train_accuracy=accuracy_score(y_train,x_train_p)"
   ]
  },
  {
   "cell_type": "code",
   "execution_count": 79,
   "id": "682b8a0e",
   "metadata": {},
   "outputs": [
    {
     "name": "stdout",
     "output_type": "stream",
     "text": [
      "[[-0.81826965 -0.23851362 -0.18213214 ... -0.3907332  -0.27454441\n",
      "  -0.18805506]\n",
      " [-0.81826965 -0.69822393 -0.66566336 ...  0.62691712  0.7693934\n",
      "  -0.20046911]\n",
      " [-0.81826965 -0.418101   -0.15339552 ...  0.62598958  0.21048959\n",
      "  -0.25817647]\n",
      " ...\n",
      " [-0.81826965 -0.54842873 -0.46604754 ...  0.15720606  0.11204293\n",
      "   0.51020838]\n",
      " [ 1.22209103 -0.31071706 -0.35444919 ... -0.04807389  0.22128297\n",
      "   0.05863647]\n",
      " [-0.81826965  1.8436014   2.04660988 ... -1.30117712 -0.72365215\n",
      "  -0.9632208 ]]\n"
     ]
    }
   ],
   "source": [
    "print(x_train)"
   ]
  },
  {
   "cell_type": "code",
   "execution_count": 80,
   "id": "04cbc02e",
   "metadata": {},
   "outputs": [
    {
     "name": "stdout",
     "output_type": "stream",
     "text": [
      "Enter value for Gender: 1\n",
      "Enter value for Jitter_rel: 0.24\n",
      "Enter value for Jitter_abs: 0.000014581\n",
      "Enter value for Jitter_RAP: 0.001\n",
      "Enter value for Jitter_PPQ: 0.0016734\n",
      "Enter value for Shim_loc: 0.030256\n",
      "Enter value for Shim_dB: 0.26313\n",
      "Enter value for Shim_APQ3: 0.017463\n",
      "Enter value for Shim_APQ5: 0.01966\n",
      "Enter value for Shi_APQ11: 0.021882\n",
      "Enter value for HNR05: 59.43796582\n",
      "Enter value for HNR15: 59.43796582\n",
      "Enter value for HNR25: 71.88286388\n",
      "Enter value for HNR35: 77.62672931\n",
      "Enter value for HNR38: 77.53804238\n",
      "Enter value for RPDE: 0.250432662\n",
      "Enter value for DFA: 0.599346197\n",
      "Enter value for PPE: 0.005396624\n",
      "Enter value for GNE: 0.900403826\n",
      "Enter value for MFCC0: 1.319501848\n",
      "Enter value for MFCC1: 1.336200846\n",
      "Enter value for MFCC2: 1.302407634\n",
      "Enter value for MFCC3: 1.329085476\n",
      "Enter value for MFCC4: 1.284921506\n",
      "Enter value for MFCC5: 1.209225155\n",
      "Enter value for MFCC6: 1.239354482\n",
      "Enter value for MFCC7: 1.277001576\n",
      "Enter value for MFCC8: 1.332503127\n",
      "Enter value for MFCC9: 1.347469645\n",
      "Enter value for MFCC10: 1.367539657\n",
      "Enter value for MFCC11: 1.402140706\n",
      "Enter value for MFCC12: 1.393808554\n",
      "Enter value for Delta0: 1.397874226\n",
      "Enter value for Delta1: 1.372464061\n",
      "Enter value for Delta2: 1.390297922\n",
      "Enter value for Delta3: 1.40770135\n",
      "Enter value for Delta4: 1.417217679\n",
      "Enter value for Delta5: 1.380352079\n",
      "Enter value for Delta6: 1.420670048\n",
      "Enter value for Delta7: 1.451239875\n",
      "Enter value for Delta8: 1.440294639\n",
      "Enter value for Delta9: 1.403677959\n",
      "Enter value for Delta10: 1.405494953\n",
      "Enter value for Delta11: 1.416704921\n",
      "Enter value for Delta12: 1.354610287\n",
      "The model predicts that the person does not have Parkinson's disease.\n"
     ]
    },
    {
     "name": "stderr",
     "output_type": "stream",
     "text": [
      "C:\\Users\\User\\anaconda3\\lib\\site-packages\\sklearn\\base.py:420: UserWarning: X does not have valid feature names, but StandardScaler was fitted with feature names\n",
      "  warnings.warn(\n"
     ]
    }
   ],
   "source": [
    "input_data = []\n",
    "for col in x.columns:\n",
    "    val = float(input(f\"Enter value for {col}: \"))\n",
    "    input_data.append(val)\n",
    "input_data = np.array(input_data).reshape(1, -1)\n",
    "\n",
    "# Preprocess input data\n",
    "input_data_scaled = scaler.transform(input_data)\n",
    "\n",
    "# Predict using the model\n",
    "prediction = model.predict(input_data_scaled)\n",
    "\n",
    "# Display prediction\n",
    "if prediction[0] == 1:\n",
    "    print(\"The model predicts that the person has Parkinson's disease.\")\n",
    "else:\n",
    "    print(\"The model predicts that the person does not have Parkinson's disease.\")"
   ]
  },
  {
   "cell_type": "code",
   "execution_count": null,
   "id": "c2e2dc9c",
   "metadata": {},
   "outputs": [],
   "source": []
  }
 ],
 "metadata": {
  "kernelspec": {
   "display_name": "Python 3 (ipykernel)",
   "language": "python",
   "name": "python3"
  },
  "language_info": {
   "codemirror_mode": {
    "name": "ipython",
    "version": 3
   },
   "file_extension": ".py",
   "mimetype": "text/x-python",
   "name": "python",
   "nbconvert_exporter": "python",
   "pygments_lexer": "ipython3",
   "version": "3.10.9"
  }
 },
 "nbformat": 4,
 "nbformat_minor": 5
}
